{
 "cells": [
  {
   "cell_type": "code",
   "execution_count": 4,
   "id": "d4f0b924-944c-4fb3-9292-5e004c100819",
   "metadata": {},
   "outputs": [
    {
     "name": "stdout",
     "output_type": "stream",
     "text": [
      "Hello World...!\n"
     ]
    }
   ],
   "source": [
    "print('Hello World...!')"
   ]
  },
  {
   "cell_type": "code",
   "execution_count": null,
   "id": "90914a1a-d31d-4276-94af-0fc15078e98a",
   "metadata": {},
   "outputs": [],
   "source": []
  },
  {
   "cell_type": "code",
   "execution_count": null,
   "id": "a1125c3a-5309-49d0-bc4d-6a1d391f8c5f",
   "metadata": {},
   "outputs": [],
   "source": []
  }
 ],
 "metadata": {
  "kernelspec": {
   "display_name": "Python 3 (ipykernel)",
   "language": "python",
   "name": "python3"
  },
  "language_info": {
   "codemirror_mode": {
    "name": "ipython",
    "version": 3
   },
   "file_extension": ".py",
   "mimetype": "text/x-python",
   "name": "python",
   "nbconvert_exporter": "python",
   "pygments_lexer": "ipython3",
   "version": "3.13.2"
  }
 },
 "nbformat": 4,
 "nbformat_minor": 5
}
